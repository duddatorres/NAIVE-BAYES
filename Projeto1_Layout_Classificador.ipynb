{
 "cells": [
  {
   "cell_type": "markdown",
   "metadata": {},
   "source": [
    "# Projeto 1 - Ciência dos Dados"
   ]
  },
  {
   "cell_type": "markdown",
   "metadata": {},
   "source": [
    "Nome: Maria Eduarda Torres\n",
    "\n",
    "Nome: Giancarlo"
   ]
  },
  {
   "cell_type": "markdown",
   "metadata": {},
   "source": [
    "Atenção: Serão permitidos grupos de três pessoas, mas com uma rubrica mais exigente. Grupos deste tamanho precisarão fazer um questionário de avaliação de trabalho em equipe"
   ]
  },
  {
   "cell_type": "markdown",
   "metadata": {},
   "source": [
    "___\n",
    "Carregando algumas bibliotecas:"
   ]
  },
  {
   "cell_type": "code",
   "execution_count": 1,
   "metadata": {},
   "outputs": [],
   "source": [
    "%matplotlib inline\n",
    "import pandas as pd\n",
    "import matplotlib.pyplot as plt\n",
    "import numpy as np\n",
    "import os\n",
    "import re \n",
    "import numpy\n",
    "import itertools\n",
    "import collections\n",
    "import functools\n",
    "import operator\n",
    "import emoji"
   ]
  },
  {
   "cell_type": "code",
   "execution_count": 2,
   "metadata": {
    "scrolled": false
   },
   "outputs": [
    {
     "name": "stdout",
     "output_type": "stream",
     "text": [
      "Esperamos trabalhar no diretório\n",
      "/Users/duddatorres/Documents/CDADOS_3/NAIVE-BAYES\n"
     ]
    }
   ],
   "source": [
    "print('Esperamos trabalhar no diretório')\n",
    "print(os.getcwd())"
   ]
  },
  {
   "cell_type": "markdown",
   "metadata": {},
   "source": [
    "Carregando a base de dados com os tweets classificados como relevantes e não relevantes:"
   ]
  },
  {
   "cell_type": "code",
   "execution_count": 3,
   "metadata": {},
   "outputs": [],
   "source": [
    "filename = 'iphone_12.xlsx'"
   ]
  },
  {
   "cell_type": "code",
   "execution_count": 4,
   "metadata": {},
   "outputs": [
    {
     "data": {
      "text/html": [
       "<div>\n",
       "<style scoped>\n",
       "    .dataframe tbody tr th:only-of-type {\n",
       "        vertical-align: middle;\n",
       "    }\n",
       "\n",
       "    .dataframe tbody tr th {\n",
       "        vertical-align: top;\n",
       "    }\n",
       "\n",
       "    .dataframe thead th {\n",
       "        text-align: right;\n",
       "    }\n",
       "</style>\n",
       "<table border=\"1\" class=\"dataframe\">\n",
       "  <thead>\n",
       "    <tr style=\"text-align: right;\">\n",
       "      <th></th>\n",
       "      <th>Treinamento</th>\n",
       "      <th>categorias</th>\n",
       "    </tr>\n",
       "  </thead>\n",
       "  <tbody>\n",
       "    <tr>\n",
       "      <th>0</th>\n",
       "      <td>até junho compro meu iphone 12 pro max se deus...</td>\n",
       "      <td>1</td>\n",
       "    </tr>\n",
       "    <tr>\n",
       "      <th>1</th>\n",
       "      <td>lembrando do dia que eu derrubei um iphone 12 ...</td>\n",
       "      <td>0</td>\n",
       "    </tr>\n",
       "    <tr>\n",
       "      <th>2</th>\n",
       "      <td>alguém me da um iphone 12 ai pfv</td>\n",
       "      <td>1</td>\n",
       "    </tr>\n",
       "    <tr>\n",
       "      <th>3</th>\n",
       "      <td>vem projota quero ganhar um iphone 12 que eu p...</td>\n",
       "      <td>1</td>\n",
       "    </tr>\n",
       "    <tr>\n",
       "      <th>4</th>\n",
       "      <td>saí mt lindo na foto da identidade mane, camer...</td>\n",
       "      <td>1</td>\n",
       "    </tr>\n",
       "    <tr>\n",
       "      <th>...</th>\n",
       "      <td>...</td>\n",
       "      <td>...</td>\n",
       "    </tr>\n",
       "    <tr>\n",
       "      <th>295</th>\n",
       "      <td>quem ta afim de me dar um iphone 12 pro max 51...</td>\n",
       "      <td>0</td>\n",
       "    </tr>\n",
       "    <tr>\n",
       "      <th>296</th>\n",
       "      <td>entrei em um sorteio pra ganhar um iphone 12 n...</td>\n",
       "      <td>0</td>\n",
       "    </tr>\n",
       "    <tr>\n",
       "      <th>297</th>\n",
       "      <td>@jornaloglobo legal fera, agora é só esperar o...</td>\n",
       "      <td>0</td>\n",
       "    </tr>\n",
       "    <tr>\n",
       "      <th>298</th>\n",
       "      <td>@risk_protection comprar iphone 12 o galaxy</td>\n",
       "      <td>0</td>\n",
       "    </tr>\n",
       "    <tr>\n",
       "      <th>299</th>\n",
       "      <td>@santaroni7 @ceaga09 tem do iphone 12 pro max ...</td>\n",
       "      <td>0</td>\n",
       "    </tr>\n",
       "  </tbody>\n",
       "</table>\n",
       "<p>300 rows × 2 columns</p>\n",
       "</div>"
      ],
      "text/plain": [
       "                                           Treinamento  categorias\n",
       "0    até junho compro meu iphone 12 pro max se deus...           1\n",
       "1    lembrando do dia que eu derrubei um iphone 12 ...           0\n",
       "2                     alguém me da um iphone 12 ai pfv           1\n",
       "3    vem projota quero ganhar um iphone 12 que eu p...           1\n",
       "4    saí mt lindo na foto da identidade mane, camer...           1\n",
       "..                                                 ...         ...\n",
       "295  quem ta afim de me dar um iphone 12 pro max 51...           0\n",
       "296  entrei em um sorteio pra ganhar um iphone 12 n...           0\n",
       "297  @jornaloglobo legal fera, agora é só esperar o...           0\n",
       "298        @risk_protection comprar iphone 12 o galaxy           0\n",
       "299  @santaroni7 @ceaga09 tem do iphone 12 pro max ...           0\n",
       "\n",
       "[300 rows x 2 columns]"
      ]
     },
     "execution_count": 4,
     "metadata": {},
     "output_type": "execute_result"
    }
   ],
   "source": [
    "train = pd.read_excel(filename)\n",
    "train"
   ]
  },
  {
   "cell_type": "code",
   "execution_count": 5,
   "metadata": {},
   "outputs": [
    {
     "data": {
      "text/html": [
       "<div>\n",
       "<style scoped>\n",
       "    .dataframe tbody tr th:only-of-type {\n",
       "        vertical-align: middle;\n",
       "    }\n",
       "\n",
       "    .dataframe tbody tr th {\n",
       "        vertical-align: top;\n",
       "    }\n",
       "\n",
       "    .dataframe thead th {\n",
       "        text-align: right;\n",
       "    }\n",
       "</style>\n",
       "<table border=\"1\" class=\"dataframe\">\n",
       "  <thead>\n",
       "    <tr style=\"text-align: right;\">\n",
       "      <th></th>\n",
       "      <th>Teste</th>\n",
       "      <th>categorias</th>\n",
       "    </tr>\n",
       "  </thead>\n",
       "  <tbody>\n",
       "    <tr>\n",
       "      <th>0</th>\n",
       "      <td>iphone 12 mini é um iphone 5s, por fora né</td>\n",
       "      <td>1</td>\n",
       "    </tr>\n",
       "    <tr>\n",
       "      <th>1</th>\n",
       "      <td>eu sou trouxa ao ponto de ter esperança de gan...</td>\n",
       "      <td>0</td>\n",
       "    </tr>\n",
       "    <tr>\n",
       "      <th>2</th>\n",
       "      <td>ótima comparação, po. esse notebook custa apen...</td>\n",
       "      <td>1</td>\n",
       "    </tr>\n",
       "    <tr>\n",
       "      <th>3</th>\n",
       "      <td>@__karlamaiolly de brinde vem uma carne e um i...</td>\n",
       "      <td>1</td>\n",
       "    </tr>\n",
       "    <tr>\n",
       "      <th>4</th>\n",
       "      <td>eu quero! clique no link para me ajudar a baix...</td>\n",
       "      <td>0</td>\n",
       "    </tr>\n",
       "    <tr>\n",
       "      <th>...</th>\n",
       "      <td>...</td>\n",
       "      <td>...</td>\n",
       "    </tr>\n",
       "    <tr>\n",
       "      <th>231</th>\n",
       "      <td>nem iphone 12, nem whisky 12 anos, nem carro z...</td>\n",
       "      <td>1</td>\n",
       "    </tr>\n",
       "    <tr>\n",
       "      <th>232</th>\n",
       "      <td>iplace me mandando e-mail sobre iphone 12........</td>\n",
       "      <td>1</td>\n",
       "    </tr>\n",
       "    <tr>\n",
       "      <th>233</th>\n",
       "      <td>@mii_silvaaa nss eu tb, só qria um iphone 12 😔...</td>\n",
       "      <td>1</td>\n",
       "    </tr>\n",
       "    <tr>\n",
       "      <th>234</th>\n",
       "      <td>rt @jocecrz: @jornaloglobo legal fera, agora é...</td>\n",
       "      <td>1</td>\n",
       "    </tr>\n",
       "    <tr>\n",
       "      <th>235</th>\n",
       "      <td>feio quero um iphone 12 😭🖐🏻 https://t.co/t1qvu...</td>\n",
       "      <td>1</td>\n",
       "    </tr>\n",
       "  </tbody>\n",
       "</table>\n",
       "<p>236 rows × 2 columns</p>\n",
       "</div>"
      ],
      "text/plain": [
       "                                                 Teste  categorias\n",
       "0           iphone 12 mini é um iphone 5s, por fora né           1\n",
       "1    eu sou trouxa ao ponto de ter esperança de gan...           0\n",
       "2    ótima comparação, po. esse notebook custa apen...           1\n",
       "3    @__karlamaiolly de brinde vem uma carne e um i...           1\n",
       "4    eu quero! clique no link para me ajudar a baix...           0\n",
       "..                                                 ...         ...\n",
       "231  nem iphone 12, nem whisky 12 anos, nem carro z...           1\n",
       "232  iplace me mandando e-mail sobre iphone 12........           1\n",
       "233  @mii_silvaaa nss eu tb, só qria um iphone 12 😔...           1\n",
       "234  rt @jocecrz: @jornaloglobo legal fera, agora é...           1\n",
       "235  feio quero um iphone 12 😭🖐🏻 https://t.co/t1qvu...           1\n",
       "\n",
       "[236 rows x 2 columns]"
      ]
     },
     "execution_count": 5,
     "metadata": {},
     "output_type": "execute_result"
    }
   ],
   "source": [
    "test = pd.read_excel(filename, sheet_name = 'Teste')\n",
    "test"
   ]
  },
  {
   "cell_type": "markdown",
   "metadata": {},
   "source": [
    "****"
   ]
  },
  {
   "cell_type": "markdown",
   "metadata": {},
   "source": [
    "\n",
    "\n",
    "\n"
   ]
  },
  {
   "cell_type": "markdown",
   "metadata": {},
   "source": [
    "___\n",
    "# <kbd><code style=\"font-family:Times New Roman;background:black;color:white\">Classificador automático de sentimento</code></kbd>\n"
   ]
  },
  {
   "cell_type": "markdown",
   "metadata": {},
   "source": [
    "<u>*Faça aqui uma descrição do seu produto e o que considerou como relevante ou não relevante na classificação dos tweets.*</u>\n",
    "\n",
    "*O produto escolhido foi o \"Iphone 12\". Classificamos como relevante todos os tweets que traria algum feedback, tanto positivo como negativo sobre o celular para que a empressa pudesse saber no que melhorar. Os tweets que falavam sobre aposta, sorteio ou comparaco com outros produtos que não são concorrentes foram classificados como irrelevantes.*\n",
    "\n",
    "***"
   ]
  },
  {
   "cell_type": "markdown",
   "metadata": {},
   "source": [
    "___\n",
    "# <kbd><code style=\"font-family:Times New Roman;background:black;color:white\">Montando um Classificador Naive-Bayes</code></kbd>\n",
    "\n",
    "\n",
    "\n",
    "<code style=\"font-family:Times New Roman\">Considerando apenas as mensagens da planilha Treinamento, ensine  seu classificador.</code>"
   ]
  },
  {
   "cell_type": "markdown",
   "metadata": {},
   "source": [
    "****\n",
    "> <code style=\"background:darkblue;color:white\">Limpeza de mensagens removendo os caracteres: enter, :, \", ', (, ), etc</code>"
   ]
  },
  {
   "cell_type": "code",
   "execution_count": 6,
   "metadata": {},
   "outputs": [],
   "source": [
    "import re \n",
    "\n",
    "def cleanup(text):\n",
    "    \"\"\" \n",
    "        Função de limpeza muito simples que troca alguns sinais básicos por espaços\n",
    "    \"\"\"\n",
    "    import string\n",
    "    punctuation = '[!-.:_?;]' # Note que os sinais [] são delimitadores de um conjunto.\n",
    "    pattern = re.compile(punctuation)\n",
    "    text_subbed = re.sub(pattern, '', text)\n",
    "    return text_subbed\n",
    "\n",
    "def clean_and_replace(list_to_clean):\n",
    "    lista = []\n",
    "    for e in list_to_clean:\n",
    "        c = cleanup(e.lower())\n",
    "        x = re.sub(\"@[A-Za-z0-9]+\",\"\",c)\n",
    "        z = re.sub(\"https//tco/[A-Za-z0-9]+\",\"\",x)\n",
    "        y = z.replace('\\n', '').replace('  ', ' ')\n",
    "        lista.append(y)\n",
    "    return lista"
   ]
  },
  {
   "cell_type": "markdown",
   "metadata": {},
   "source": [
    "<mark>*Texto total*</mark>"
   ]
  },
  {
   "cell_type": "markdown",
   "metadata": {},
   "source": [
    "`lista_T` $\\Rightarrow$ lista de tweets já limpos para treinamento "
   ]
  },
  {
   "cell_type": "code",
   "execution_count": 7,
   "metadata": {},
   "outputs": [
    {
     "name": "stdout",
     "output_type": "stream",
     "text": [
      "O total de tweets para treinamento do classificador é: 300\n"
     ]
    }
   ],
   "source": [
    "lista_T=[] \n",
    "lista_T = clean_and_replace(train.Treinamento)\n",
    "\n",
    "print(\"O total de tweets para treinamento do classificador é:\",len(lista_T))"
   ]
  },
  {
   "cell_type": "markdown",
   "metadata": {},
   "source": [
    "`texto_total` $\\Rightarrow$ *Reunindo todos os tweets em uma única variável de texto, separando cada palavra por um espaço*"
   ]
  },
  {
   "cell_type": "code",
   "execution_count": 8,
   "metadata": {},
   "outputs": [],
   "source": [
    "texto_total=\"\"\n",
    "for e in lista_T:\n",
    "    texto_total+= \" \" + e \n",
    "texto_total = cleanup(texto_total.lower())"
   ]
  },
  {
   "cell_type": "markdown",
   "metadata": {},
   "source": [
    "<mark>*Texto relevante*</mark>"
   ]
  },
  {
   "cell_type": "markdown",
   "metadata": {},
   "source": [
    "`relevante` $\\Rightarrow$ *Separando os tweets de Treinamento da categoria Relevante*"
   ]
  },
  {
   "cell_type": "code",
   "execution_count": 9,
   "metadata": {},
   "outputs": [],
   "source": [
    "filtra_linhas= train['categorias'] == 1\n",
    "relevante= train.loc[filtra_linhas, :]"
   ]
  },
  {
   "cell_type": "markdown",
   "metadata": {},
   "source": [
    "`Lista_T` $\\Rightarrow$ *lista de tweets relevantes já limpos para treinamento*"
   ]
  },
  {
   "cell_type": "code",
   "execution_count": 10,
   "metadata": {},
   "outputs": [
    {
     "name": "stdout",
     "output_type": "stream",
     "text": [
      "O total de tweets relevantes para treinamento do classificador é: 146\n"
     ]
    }
   ],
   "source": [
    "lista_R=[]    \n",
    "lista_R = clean_and_replace(relevante.Treinamento)\n",
    "\n",
    "print('O total de tweets relevantes para treinamento do classificador é:',len(lista_R))"
   ]
  },
  {
   "cell_type": "markdown",
   "metadata": {},
   "source": [
    "`texto_R` $\\Rightarrow$ *Reunindo todos os tweets relevantes em uma única variável de texto, separando cada palavra por um espaço*"
   ]
  },
  {
   "cell_type": "code",
   "execution_count": 11,
   "metadata": {},
   "outputs": [],
   "source": [
    "texto_R=\"\"\n",
    "for e in lista_R:\n",
    "    texto_R+= \" \" + e \n",
    "texto_R = cleanup(texto_R.lower())"
   ]
  },
  {
   "cell_type": "markdown",
   "metadata": {},
   "source": [
    "<mark>*Texto irrelevante*</mark>"
   ]
  },
  {
   "cell_type": "markdown",
   "metadata": {},
   "source": [
    "`irrelevante` $\\Rightarrow$ *Separando os tweets de Treinamento da categoria Irrelevante*"
   ]
  },
  {
   "cell_type": "code",
   "execution_count": 12,
   "metadata": {},
   "outputs": [],
   "source": [
    "filtra_linhas_2 = train['categorias'] == 0\n",
    "irrelevante= train.loc[filtra_linhas_2, :]"
   ]
  },
  {
   "cell_type": "markdown",
   "metadata": {},
   "source": [
    "`Lista_I` $\\Rightarrow$ *lista de tweets irrelevantes já limpos para treinamento*"
   ]
  },
  {
   "cell_type": "code",
   "execution_count": 13,
   "metadata": {},
   "outputs": [
    {
     "name": "stdout",
     "output_type": "stream",
     "text": [
      "O total de tweets irrelevantes para treinamento do classificador é: 154\n"
     ]
    }
   ],
   "source": [
    "lista_I=[]    \n",
    "lista_I = clean_and_replace(irrelevante.Treinamento)\n",
    "\n",
    "print('O total de tweets irrelevantes para treinamento do classificador é:',len(lista_I))"
   ]
  },
  {
   "cell_type": "markdown",
   "metadata": {},
   "source": [
    "`texto_R` $\\Rightarrow$ *Reunindo todos os tweets irrelevantes em uma única variável de texto, separando cada palavra por um espaço*"
   ]
  },
  {
   "cell_type": "code",
   "execution_count": 14,
   "metadata": {},
   "outputs": [],
   "source": [
    "texto_I =\"\"   \n",
    "for e in lista_I:\n",
    "    texto_I += \" \" + e \n",
    "texto_I = cleanup(texto_I.lower())"
   ]
  },
  {
   "cell_type": "markdown",
   "metadata": {},
   "source": [
    "****"
   ]
  },
  {
   "cell_type": "markdown",
   "metadata": {},
   "source": [
    "****\n",
    "> <code style=\"background:darkblue;color:white\">Correção de espaços entre palavras e/ou emojis</code>"
   ]
  },
  {
   "cell_type": "markdown",
   "metadata": {},
   "source": [
    "`texto` $\\Rightarrow$ *texto contendo todas as palavras de treinamento após a correção de espaços*"
   ]
  },
  {
   "cell_type": "code",
   "execution_count": 15,
   "metadata": {},
   "outputs": [],
   "source": [
    "texto_split_emoji = emoji.get_emoji_regexp().split(texto_total)\n",
    "texto_split_whitespace = [substr.split() for substr in texto_split_emoji]\n",
    "texto = functools.reduce(operator.concat, texto_split_whitespace)"
   ]
  },
  {
   "cell_type": "markdown",
   "metadata": {},
   "source": [
    "`texto_relevante` $\\Rightarrow$ *texto contendo apenas as palavras de treinamento do subconjunto relevante após a correção de espaços*"
   ]
  },
  {
   "cell_type": "code",
   "execution_count": 16,
   "metadata": {},
   "outputs": [],
   "source": [
    "texto_split_emoji_R = emoji.get_emoji_regexp().split(texto_R)\n",
    "texto_split_whitespace_R = [substr.split() for substr in texto_split_emoji_R ]\n",
    "texto_relevante = functools.reduce(operator.concat, texto_split_whitespace_R)"
   ]
  },
  {
   "cell_type": "markdown",
   "metadata": {},
   "source": [
    "`texto_irrelevante` $\\Rightarrow$ *texto contendo apenas as palavras de treinamento do subconjunto irrelevante após a correção de espaços*"
   ]
  },
  {
   "cell_type": "code",
   "execution_count": 17,
   "metadata": {},
   "outputs": [],
   "source": [
    "texto_split_emoji_I = emoji.get_emoji_regexp().split(texto_I)\n",
    "texto_split_whitespace_I = [substr.split() for substr in texto_split_emoji_I ]\n",
    "texto_irrelevante = functools.reduce(operator.concat, texto_split_whitespace_I)"
   ]
  },
  {
   "cell_type": "markdown",
   "metadata": {},
   "source": [
    "***"
   ]
  },
  {
   "cell_type": "markdown",
   "metadata": {},
   "source": [
    "****\n",
    "> <code style=\"background:darkblue;color:white\">Suavização de Laplace</code>"
   ]
  },
  {
   "cell_type": "markdown",
   "metadata": {},
   "source": [
    "<mark>*Cálculo das Probabilidades*</mark>"
   ]
  },
  {
   "cell_type": "markdown",
   "metadata": {},
   "source": [
    "`prob_relevante` $\\Rightarrow$ *Probabilidade do tweet ser relevante*"
   ]
  },
  {
   "cell_type": "code",
   "execution_count": 18,
   "metadata": {},
   "outputs": [
    {
     "name": "stdout",
     "output_type": "stream",
     "text": [
      "A probabilidade do tweet ser relevante: P(R) = 0.4866666666666667\n"
     ]
    }
   ],
   "source": [
    "prob_relevante = len(lista_R)/len(lista_T)\n",
    "print(\"A probabilidade do tweet ser relevante: P(R) =\",prob_relevante)"
   ]
  },
  {
   "cell_type": "markdown",
   "metadata": {},
   "source": [
    "`prob_irrelevante` $\\Rightarrow$ *Probabilidade do tweet ser irrelevante*"
   ]
  },
  {
   "cell_type": "code",
   "execution_count": 19,
   "metadata": {},
   "outputs": [
    {
     "name": "stdout",
     "output_type": "stream",
     "text": [
      "A probabilidade do tweet ser irrelevante: P(I) = 0.5133333333333333\n"
     ]
    }
   ],
   "source": [
    "prob_irrelevante = len(lista_I)/len(lista_T)\n",
    "print(\"A probabilidade do tweet ser irrelevante: P(I) =\",prob_irrelevante)"
   ]
  },
  {
   "cell_type": "markdown",
   "metadata": {},
   "source": [
    "`total_texto_relevante` $\\Rightarrow$ *Total de palavras no subconjunto relevante*"
   ]
  },
  {
   "cell_type": "code",
   "execution_count": 20,
   "metadata": {},
   "outputs": [],
   "source": [
    "total_texto_relevante = len(texto_relevante)"
   ]
  },
  {
   "cell_type": "markdown",
   "metadata": {},
   "source": [
    "`total_texto_irrelevante` $\\Rightarrow$ *Total de palavras no subconjunto irrelevante*"
   ]
  },
  {
   "cell_type": "code",
   "execution_count": 21,
   "metadata": {},
   "outputs": [],
   "source": [
    "total_texto_irrelevante = len(texto_irrelevante)"
   ]
  },
  {
   "cell_type": "markdown",
   "metadata": {},
   "source": [
    "`vocabulario` $\\Rightarrow$ *Permite obter o total de palavras diferentes no vocabulário de treinamento*"
   ]
  },
  {
   "cell_type": "code",
   "execution_count": 22,
   "metadata": {},
   "outputs": [],
   "source": [
    "vocabulario = pd.Series(texto).drop_duplicates()"
   ]
  },
  {
   "cell_type": "markdown",
   "metadata": {},
   "source": [
    "`total_por_palavra_R` $\\Rightarrow$ *Contagem das palavras relevantes*"
   ]
  },
  {
   "cell_type": "code",
   "execution_count": 23,
   "metadata": {},
   "outputs": [],
   "source": [
    "total_por_palavra_R = pd.Series(texto_relevante).value_counts()"
   ]
  },
  {
   "cell_type": "markdown",
   "metadata": {},
   "source": [
    "`total_por_palavra_I` $\\Rightarrow$ *Contagem das palavras irrelevantes*"
   ]
  },
  {
   "cell_type": "code",
   "execution_count": 24,
   "metadata": {},
   "outputs": [],
   "source": [
    "total_por_palavra_I = pd.Series(texto_irrelevante).value_counts()"
   ]
  },
  {
   "cell_type": "markdown",
   "metadata": {},
   "source": [
    "<mark>*Cálculo das probabilidades das palavras do vocabulário*</mark>"
   ]
  },
  {
   "cell_type": "code",
   "execution_count": 25,
   "metadata": {},
   "outputs": [],
   "source": [
    "prob_palavras_R=[]\n",
    "prob_palavras_I=[]\n",
    "\n",
    "## Suavização de Laplace: Caso não tenha a palavra no vocabulario\n",
    "# Probabilidade no conjunto relevante\n",
    "laplace_R = 1/(total_texto_relevante + len(vocabulario))\n",
    "\n",
    "#Probabilidade no conjunto irrelevante\n",
    "laplace_I = 1/(total_texto_irrelevante + len(vocabulario))\n",
    "\n",
    "#Percorre todo o vocabulario calculando as probabilidades tanto relevante como irrelevante\n",
    "for palavra in vocabulario:\n",
    "    if palavra in total_por_palavra_R:\n",
    "        prob_r = (total_por_palavra_R[palavra] + 1)/(total_texto_relevante + len(vocabulario))\n",
    "        prob_palavras_R.append(prob_r)\n",
    "    else:\n",
    "        prob_palavras_R.append(laplace_R)\n",
    "\n",
    "    if palavra in total_por_palavra_I:\n",
    "        prob_i = (total_por_palavra_I[palavra] + 1)/(total_texto_irrelevante + len(vocabulario))\n",
    "        prob_palavras_I.append(prob_i)\n",
    "    else:\n",
    "        prob_palavras_I.append(laplace_I)"
   ]
  },
  {
   "cell_type": "markdown",
   "metadata": {},
   "source": [
    "<mark>*Organização dos dados: dataframe com as palavras e probabilidades*</mark>"
   ]
  },
  {
   "cell_type": "code",
   "execution_count": 26,
   "metadata": {},
   "outputs": [
    {
     "name": "stdout",
     "output_type": "stream",
     "text": [
      "           P(palavra|Relevante)  P(palavra|Irrelevante)\n",
      "Palavra                                                \n",
      "até                    0.001572                0.001515\n",
      "junho                  0.000524                0.000433\n",
      "compro                 0.000524                0.004113\n",
      "meu                    0.004979                0.005628\n",
      "iphone                 0.039570                0.031818\n",
      "...                         ...                     ...\n",
      "esperar                0.000262                0.000433\n",
      "metade                 0.000262                0.000433\n",
      "financiar              0.000262                0.000433\n",
      "rlk                    0.000262                0.000433\n",
      "chama                  0.000262                0.000433\n",
      "\n",
      "[1461 rows x 2 columns]\n"
     ]
    }
   ],
   "source": [
    "lista_prob = list(zip(vocabulario,prob_palavras_R,prob_palavras_I))\n",
    "df_prob_aux = pd.DataFrame(lista_prob, columns = ['Palavra','P(palavra|Relevante)','P(palavra|Irrelevante)'])\n",
    "df_prob = df_prob_aux.set_index('Palavra')\n",
    "print(df_prob)"
   ]
  },
  {
   "cell_type": "markdown",
   "metadata": {},
   "source": [
    "***"
   ]
  },
  {
   "cell_type": "markdown",
   "metadata": {},
   "source": [
    "# <kbd><code style=\"font-family:Times New Roman;background:black;color:white\">Verificando a performance do Classificador</code></kbd>\n",
    "\n",
    "\n",
    "\n",
    "<code style=\"font-family:Times New Roman\">Agora você deve testar o seu classificador com a base de Testes.</code>"
   ]
  },
  {
   "cell_type": "markdown",
   "metadata": {},
   "source": [
    "****\n",
    "> <code style=\"background:darkblue;color:white\">Limpeza de mensagens removendo os caracteres da base teste: enter, :, \", ', (, ), etc</code>"
   ]
  },
  {
   "cell_type": "markdown",
   "metadata": {},
   "source": [
    "`lista_R_teste` $\\Rightarrow$ *Limpeza da Lista para Teste de Tweets Relevantes*"
   ]
  },
  {
   "cell_type": "code",
   "execution_count": 27,
   "metadata": {},
   "outputs": [
    {
     "name": "stdout",
     "output_type": "stream",
     "text": [
      "O total de tweets relevantes usados no teste do classificador é : 102\n"
     ]
    }
   ],
   "source": [
    "filtra_linhas_teste= test['categorias'] == 1\n",
    "relevante_teste= test.loc[filtra_linhas_teste, :]\n",
    "lista_R_teste = []\n",
    "lista_R_teste = clean_and_replace(relevante_teste.Teste)\n",
    "print(\"O total de tweets relevantes usados no teste do classificador é :\",len(lista_R_teste))"
   ]
  },
  {
   "cell_type": "markdown",
   "metadata": {},
   "source": [
    "`lista_I_teste` $\\Rightarrow$ *Limpeza da Lista para Teste de Tweets Irrelevantes*"
   ]
  },
  {
   "cell_type": "code",
   "execution_count": 28,
   "metadata": {},
   "outputs": [
    {
     "name": "stdout",
     "output_type": "stream",
     "text": [
      "O total de tweets irrelevantes usados no teste do classificador é : 134\n"
     ]
    }
   ],
   "source": [
    "filtra_linhas_teste_2 = test['categorias'] == 0\n",
    "irrelevante_teste= test.loc[filtra_linhas_teste_2, :]\n",
    "lista_I_teste=[]\n",
    "lista_I_teste = clean_and_replace(irrelevante_teste.Teste)\n",
    "print(\"O total de tweets irrelevantes usados no teste do classificador é :\",len(lista_I_teste))"
   ]
  },
  {
   "cell_type": "markdown",
   "metadata": {},
   "source": [
    "***"
   ]
  },
  {
   "cell_type": "markdown",
   "metadata": {},
   "source": [
    "****\n",
    "> <code style=\"background:darkblue;color:white\">Correção de espaços entre palavras e/ou emojis da base teste</code>"
   ]
  },
  {
   "cell_type": "markdown",
   "metadata": {},
   "source": [
    "`lista_R` $\\Rightarrow$ *lista de tweets relevantes já limpos para teste*"
   ]
  },
  {
   "cell_type": "code",
   "execution_count": 29,
   "metadata": {},
   "outputs": [],
   "source": [
    "lista_R=[] \n",
    "for e in lista_R_teste:\n",
    "    e = e.lower()\n",
    "    texto_split_emoji_teste = emoji.get_emoji_regexp().split(e)\n",
    "    texto_split_whitespace_teste = [substr.split() for substr in texto_split_emoji_teste]\n",
    "    list_teste = functools.reduce(operator.concat, texto_split_whitespace_teste)\n",
    "    lista_R.append(list_teste)"
   ]
  },
  {
   "cell_type": "markdown",
   "metadata": {},
   "source": [
    "`lista_I` $\\Rightarrow$ *lista de tweets irrelevantes já limpos para teste*"
   ]
  },
  {
   "cell_type": "code",
   "execution_count": 30,
   "metadata": {},
   "outputs": [],
   "source": [
    "lista_I=[]\n",
    "for e in lista_I_teste:\n",
    "    e = e.lower()\n",
    "    texto_split_emoji_teste = emoji.get_emoji_regexp().split(e)\n",
    "    texto_split_whitespace_teste = [substr.split() for substr in texto_split_emoji_teste]\n",
    "    list_teste = functools.reduce(operator.concat, texto_split_whitespace_teste)\n",
    "    lista_I.append(list_teste)"
   ]
  },
  {
   "cell_type": "markdown",
   "metadata": {},
   "source": [
    "***"
   ]
  },
  {
   "cell_type": "markdown",
   "metadata": {},
   "source": [
    "****\n",
    "> <code style=\"background:darkblue;color:white\">Testando cassificador</code>"
   ]
  },
  {
   "cell_type": "markdown",
   "metadata": {},
   "source": [
    "<mark>*Teste dos tweets relevantes*</mark>"
   ]
  },
  {
   "cell_type": "code",
   "execution_count": 31,
   "metadata": {},
   "outputs": [
    {
     "name": "stdout",
     "output_type": "stream",
     "text": [
      "O teste apresentou  74  mensagens relevantes corretamente identificadas e  28  falso(s) negativo(s)\n"
     ]
    }
   ],
   "source": [
    "## Teste dos tweets relevantes\n",
    "resultado_classificador_R = []\n",
    "hipotese_melhoria = []\n",
    "\n",
    "k = 0\n",
    "\n",
    "#probabilidade da mensagem ser relevante/irrelevante\n",
    "prob_msg_relevante = 1      \n",
    "prob_msg_irrelevante = 1\n",
    "\n",
    "#Contagem de mensagens relevantes/irrelevantes\n",
    "relevantes_corretas = 0\n",
    "falso_negativo = 0\n",
    "\n",
    "while k < len(lista_R):\n",
    "    for palavra in lista_R[k]:\n",
    "        #Produto das probabilidades de cada palavra do tweet\n",
    "        #Caso a palavra faça parte do vocabulário de Treinamento\n",
    "        try:\n",
    "            prob_palavra_dado_r = df_prob.loc[palavra]['P(palavra|Relevante)']\n",
    "            prob_palavra_dado_i = df_prob.loc[palavra]['P(palavra|Irrelevante)']\n",
    "                \n",
    "        #Exceção: caso a palavra não conste no vocabulário obtido no Treinamento, deve ter sua prob = 1/(total de palavras + vocabulario)\n",
    "        except:\n",
    "            prob_palavra_dado_r = laplace_R\n",
    "            prob_palavra_dado_i = laplace_I\n",
    "\n",
    "        prob_msg_relevante = prob_msg_relevante*prob_palavra_dado_r\n",
    "        prob_msg_irrelevante = prob_msg_irrelevante*prob_palavra_dado_i\n",
    "        \n",
    "    #Após as multiplicações das probabilidades das palavras, devemos multiplicar por P(Relevante) e P(Irrelevante)\n",
    "    prob_msg_relevante = prob_msg_relevante*prob_relevante\n",
    "    prob_msg_irrelevante = prob_msg_irrelevante*prob_irrelevante\n",
    "    \n",
    "    #Classificação: se P(tweet|R).P(R) > P(tweet|I).P(I), então classificamos como Relevante.\n",
    "    if prob_msg_relevante > prob_msg_irrelevante:\n",
    "        relevantes_corretas+=1\n",
    "        resultado_classificador_R.append(\"Relevante\")\n",
    "    else:\n",
    "        falso_negativo+=1\n",
    "        resultado_classificador_R.append(\"Irrelevante\")\n",
    "    \n",
    "    hipotese_melhoria.append(prob_msg_relevante/prob_msg_irrelevante)\n",
    "    \n",
    "    k+=1\n",
    "    #Após classificar um tweet, as probabilidades devemos reatribuir 1 para as probabilidades\n",
    "    prob_msg_relevante = 1\n",
    "    prob_msg_irrelevante = 1\n",
    "\n",
    "print(\"O teste apresentou \", relevantes_corretas, \n",
    "      \" mensagens relevantes corretamente identificadas e \", falso_negativo, \" falso(s) negativo(s)\")"
   ]
  },
  {
   "cell_type": "markdown",
   "metadata": {},
   "source": [
    "<mark>*Teste dos tweets irrelevantes*</mark>"
   ]
  },
  {
   "cell_type": "code",
   "execution_count": 32,
   "metadata": {},
   "outputs": [
    {
     "name": "stdout",
     "output_type": "stream",
     "text": [
      "O teste apresentou  52  mensagens irrelevantes corretamente identificadas e  82  falso(s) positivo(s)\n"
     ]
    }
   ],
   "source": [
    "## Teste dos tweets Irrelevantes\n",
    "resultado_classificador_I = []\n",
    "\n",
    "k = 0\n",
    "\n",
    "#probabilidade da mensagem ser relevante/irrelevante\n",
    "prob_msg_relevante = 1      \n",
    "prob_msg_irrelevante = 1\n",
    "\n",
    "#Contagem de mensagens relevantes/irrelevantes\n",
    "irrelevantes_corretas = 0\n",
    "falso_positivo = 0\n",
    "\n",
    "while k < len(lista_I):\n",
    "    for palavra in lista_I[k]:\n",
    "        #Produto das probabilidades de cada palavra do tweet\n",
    "        #Caso a palavra faça parte do vocabulário de Treinamento\n",
    "        try:\n",
    "            prob_palavra_dado_r = df_prob.loc[palavra]['P(palavra|Relevante)']\n",
    "            prob_palavra_dado_i = df_prob.loc[palavra]['P(palavra|Irrelevante)']\n",
    "                \n",
    "        #Exceção: caso a palavra não conste no vocabulário obtido no Treinamento, deve ter sua prob = 1/(total de palavras + vocabulario)\n",
    "        except:\n",
    "            prob_palavra_dado_r = laplace_R\n",
    "            prob_palavra_dado_i = laplace_I\n",
    "\n",
    "        prob_msg_relevante = prob_msg_relevante*prob_palavra_dado_r\n",
    "        prob_msg_irrelevante = prob_msg_irrelevante*prob_palavra_dado_i\n",
    "        \n",
    "    #Após as multiplicações das probabilidades das palavras, devemos multiplicar por P(Relevante) e P(Irrelevante)\n",
    "    prob_msg_relevante = prob_msg_relevante*prob_relevante\n",
    "    prob_msg_irrelevante = prob_msg_irrelevante*prob_irrelevante\n",
    "    \n",
    "    #Classificação: se P(tweet|R).P(R) > P(tweet|I).P(I), então classificamos como Relevante.\n",
    "    if prob_msg_relevante > prob_msg_irrelevante:\n",
    "        falso_positivo+=1\n",
    "        resultado_classificador_I.append(\"Relevante\")\n",
    "    else:\n",
    "        irrelevantes_corretas+=1\n",
    "        resultado_classificador_I.append(\"Irrelevante\")\n",
    "    \n",
    "    hipotese_melhoria.append(prob_msg_relevante/prob_msg_irrelevante)\n",
    "    \n",
    "    k+=1\n",
    "    #Após classificar um tweet, as probabilidades devemos reatribuir 1 para as probabilidades\n",
    "    prob_msg_relevante = 1\n",
    "    prob_msg_irrelevante = 1\n",
    "\n",
    "print(\"O teste apresentou \", irrelevantes_corretas, \n",
    "      \" mensagens irrelevantes corretamente identificadas e \", falso_positivo, \" falso(s) positivo(s)\")"
   ]
  },
  {
   "cell_type": "markdown",
   "metadata": {},
   "source": [
    "<mark>*Cálculo das porcentagens do Classificador*</mark>"
   ]
  },
  {
   "cell_type": "raw",
   "metadata": {},
   "source": [
    "✓ Porcentagem de verdadeiros positivos (mensagens relevantes e que são classificadas como relevantes)\n",
    "✓ Porcentagem de falsos positivos (mensagens irrelevantes e que são classificadas como relevantes)\n",
    "✓ Porcentagem de verdadeiros negativos (mensagens irrelevantes e que são classificadas como irrelevantes)\n",
    "✓ Porcentagem de falsos negativos (mensagens relevantes e que são classificadas como irrelevantes)"
   ]
  },
  {
   "cell_type": "code",
   "execution_count": 33,
   "metadata": {},
   "outputs": [
    {
     "name": "stdout",
     "output_type": "stream",
     "text": [
      "31.4% de Verdadeiros Positivos\n",
      "22.0% de Verdadeiros Negativos\n",
      "11.9% de Falsos Negativos\n",
      "34.7% de Falsos Positivos\n"
     ]
    }
   ],
   "source": [
    "total_teste = len(lista_R) + len(lista_I)\n",
    "porc_positivos_corretos = relevantes_corretas/total_teste\n",
    "porc_negativos_corretos = irrelevantes_corretas/total_teste\n",
    "porc_falso_negativo = falso_negativo/total_teste\n",
    "porc_falso_positivo = falso_positivo/total_teste\n",
    "\n",
    "print('{:.1%}'.format(porc_positivos_corretos), \"de Verdadeiros Positivos\")\n",
    "print('{:.1%}'.format(porc_negativos_corretos), \"de Verdadeiros Negativos\")\n",
    "print('{:.1%}'.format(porc_falso_negativo), \"de Falsos Negativos\")\n",
    "print('{:.1%}'.format(porc_falso_positivo), \"de Falsos Positivos\")"
   ]
  },
  {
   "cell_type": "markdown",
   "metadata": {},
   "source": [
    "***"
   ]
  },
  {
   "cell_type": "markdown",
   "metadata": {},
   "source": [
    "\n",
    "\n",
    "\n"
   ]
  },
  {
   "cell_type": "markdown",
   "metadata": {},
   "source": [
    "___\n",
    "# <kbd><code style=\"font-family:Times New Roman;background:black;color:white\">Concluindo</code></kbd>"
   ]
  },
  {
   "cell_type": "code",
   "execution_count": null,
   "metadata": {},
   "outputs": [],
   "source": []
  },
  {
   "cell_type": "code",
   "execution_count": null,
   "metadata": {},
   "outputs": [],
   "source": []
  },
  {
   "cell_type": "markdown",
   "metadata": {},
   "source": [
    "___\n",
    "# <kbd><code style=\"font-family:Times New Roman;background:black;color:white\"> Qualidade do Classificador a partir de novas separações dos tweets entre Treinamento e Teste</code></kbd>\n",
    "\n",
    "\n",
    "\n",
    "<code style=\"font-family:Times New Roman\">Caso for fazer esse item do Projeto</code>"
   ]
  },
  {
   "cell_type": "code",
   "execution_count": 34,
   "metadata": {},
   "outputs": [
    {
     "data": {
      "text/html": [
       "<div>\n",
       "<style scoped>\n",
       "    .dataframe tbody tr th:only-of-type {\n",
       "        vertical-align: middle;\n",
       "    }\n",
       "\n",
       "    .dataframe tbody tr th {\n",
       "        vertical-align: top;\n",
       "    }\n",
       "\n",
       "    .dataframe thead th {\n",
       "        text-align: right;\n",
       "    }\n",
       "</style>\n",
       "<table border=\"1\" class=\"dataframe\">\n",
       "  <thead>\n",
       "    <tr style=\"text-align: right;\">\n",
       "      <th></th>\n",
       "      <th>Treinamento</th>\n",
       "      <th>categorias</th>\n",
       "    </tr>\n",
       "  </thead>\n",
       "  <tbody>\n",
       "    <tr>\n",
       "      <th>0</th>\n",
       "      <td>até junho compro meu iphone 12 pro max se deus...</td>\n",
       "      <td>1</td>\n",
       "    </tr>\n",
       "    <tr>\n",
       "      <th>1</th>\n",
       "      <td>lembrando do dia que eu derrubei um iphone 12 ...</td>\n",
       "      <td>0</td>\n",
       "    </tr>\n",
       "    <tr>\n",
       "      <th>2</th>\n",
       "      <td>alguém me da um iphone 12 ai pfv</td>\n",
       "      <td>1</td>\n",
       "    </tr>\n",
       "    <tr>\n",
       "      <th>3</th>\n",
       "      <td>vem projota quero ganhar um iphone 12 que eu p...</td>\n",
       "      <td>1</td>\n",
       "    </tr>\n",
       "    <tr>\n",
       "      <th>4</th>\n",
       "      <td>saí mt lindo na foto da identidade mane, camer...</td>\n",
       "      <td>1</td>\n",
       "    </tr>\n",
       "    <tr>\n",
       "      <th>...</th>\n",
       "      <td>...</td>\n",
       "      <td>...</td>\n",
       "    </tr>\n",
       "    <tr>\n",
       "      <th>231</th>\n",
       "      <td>nem iphone 12, nem whisky 12 anos, nem carro z...</td>\n",
       "      <td>1</td>\n",
       "    </tr>\n",
       "    <tr>\n",
       "      <th>232</th>\n",
       "      <td>iplace me mandando e-mail sobre iphone 12........</td>\n",
       "      <td>1</td>\n",
       "    </tr>\n",
       "    <tr>\n",
       "      <th>233</th>\n",
       "      <td>@mii_silvaaa nss eu tb, só qria um iphone 12 😔...</td>\n",
       "      <td>1</td>\n",
       "    </tr>\n",
       "    <tr>\n",
       "      <th>234</th>\n",
       "      <td>rt @jocecrz: @jornaloglobo legal fera, agora é...</td>\n",
       "      <td>1</td>\n",
       "    </tr>\n",
       "    <tr>\n",
       "      <th>235</th>\n",
       "      <td>feio quero um iphone 12 😭🖐🏻 https://t.co/t1qvu...</td>\n",
       "      <td>1</td>\n",
       "    </tr>\n",
       "  </tbody>\n",
       "</table>\n",
       "<p>536 rows × 2 columns</p>\n",
       "</div>"
      ],
      "text/plain": [
       "                                           Treinamento  categorias\n",
       "0    até junho compro meu iphone 12 pro max se deus...           1\n",
       "1    lembrando do dia que eu derrubei um iphone 12 ...           0\n",
       "2                     alguém me da um iphone 12 ai pfv           1\n",
       "3    vem projota quero ganhar um iphone 12 que eu p...           1\n",
       "4    saí mt lindo na foto da identidade mane, camer...           1\n",
       "..                                                 ...         ...\n",
       "231  nem iphone 12, nem whisky 12 anos, nem carro z...           1\n",
       "232  iplace me mandando e-mail sobre iphone 12........           1\n",
       "233  @mii_silvaaa nss eu tb, só qria um iphone 12 😔...           1\n",
       "234  rt @jocecrz: @jornaloglobo legal fera, agora é...           1\n",
       "235  feio quero um iphone 12 😭🖐🏻 https://t.co/t1qvu...           1\n",
       "\n",
       "[536 rows x 2 columns]"
      ]
     },
     "execution_count": 34,
     "metadata": {},
     "output_type": "execute_result"
    }
   ],
   "source": [
    "relacao_colunas = {'Teste':'Treinamento'}\n",
    "df_teste_treinamento = pd.concat([train, test.rename(columns=relacao_colunas)])\n",
    "df_teste_treinamento"
   ]
  },
  {
   "cell_type": "code",
   "execution_count": 36,
   "metadata": {},
   "outputs": [
    {
     "ename": "NameError",
     "evalue": "name 'train_test_split' is not defined",
     "output_type": "error",
     "traceback": [
      "\u001b[0;31m---------------------------------------------------------------------------\u001b[0m",
      "\u001b[0;31mNameError\u001b[0m                                 Traceback (most recent call last)",
      "\u001b[0;32m<ipython-input-36-62292530d2f4>\u001b[0m in \u001b[0;36m<module>\u001b[0;34m\u001b[0m\n\u001b[0;32m----> 1\u001b[0;31m \u001b[0mdf_train\u001b[0m\u001b[0;34m,\u001b[0m\u001b[0mdf_test\u001b[0m\u001b[0;34m=\u001b[0m\u001b[0mtrain_test_split\u001b[0m\u001b[0;34m(\u001b[0m\u001b[0mx\u001b[0m\u001b[0;34m,\u001b[0m\u001b[0my\u001b[0m\u001b[0;34m,\u001b[0m\u001b[0mtest_size\u001b[0m\u001b[0;34m=\u001b[0m\u001b[0;36m0.2\u001b[0m\u001b[0;34m)\u001b[0m\u001b[0;34m\u001b[0m\u001b[0;34m\u001b[0m\u001b[0m\n\u001b[0m\u001b[1;32m      2\u001b[0m \u001b[0mx_train\u001b[0m\u001b[0;34m.\u001b[0m\u001b[0mhead\u001b[0m\u001b[0;34m(\u001b[0m\u001b[0;34m)\u001b[0m\u001b[0;34m\u001b[0m\u001b[0;34m\u001b[0m\u001b[0m\n",
      "\u001b[0;31mNameError\u001b[0m: name 'train_test_split' is not defined"
     ]
    }
   ],
   "source": [
    "df_train,df_test=train_test_split(x,y,test_size=0.2)\n",
    "x_train.head()"
   ]
  },
  {
   "cell_type": "markdown",
   "metadata": {},
   "source": [
    "___\n",
    "# <kbd><code style=\"font-family:Times New Roman;background:black;color:white\"> Aperfeiçoamento</code></kbd>\n",
    "Os trabalhos vão evoluir em conceito dependendo da quantidade de itens avançados:\n",
    "\n",
    "* Limpar: \\n, :, \", ', (, ), etc SEM remover emojis\n",
    "* Corrigir separação de espaços entre palavras e emojis ou entre emojis e emojis\n",
    "* Propor outras limpezas e transformações que não afetem a qualidade da informação ou classificação\n",
    "* Criar categorias intermediárias de relevância baseadas na probabilidade: ex.: muito relevante, relevante, neutro, irrelevante, muito irrelevante (3 categorias: C, mais categorias conta para B)\n",
    "* Explicar por que não posso usar o próprio classificador para gerar mais amostras de treinamento\n",
    "* Propor diferentes cenários para Naïve Bayes fora do contexto do projeto\n",
    "* Sugerir e explicar melhorias reais com indicações concretas de como implementar (indicar como fazer e indicar material de pesquisa)\n"
   ]
  },
  {
   "cell_type": "markdown",
   "metadata": {},
   "source": [
    "___\n",
    "# <kbd><code style=\"font-family:Times New Roman;background:black;color:white\"> Referências</code></kbd>"
   ]
  },
  {
   "cell_type": "markdown",
   "metadata": {},
   "source": [
    "[Naive Bayes and Text Classification](https://arxiv.org/pdf/1410.5329.pdf)  **Mais completo**\n",
    "\n",
    "[A practical explanation of a Naive Bayes Classifier](https://monkeylearn.com/blog/practical-explanation-naive-bayes-classifier/) **Mais simples**"
   ]
  }
 ],
 "metadata": {
  "kernelspec": {
   "display_name": "Python 3",
   "language": "python",
   "name": "python3"
  },
  "language_info": {
   "codemirror_mode": {
    "name": "ipython",
    "version": 3
   },
   "file_extension": ".py",
   "mimetype": "text/x-python",
   "name": "python",
   "nbconvert_exporter": "python",
   "pygments_lexer": "ipython3",
   "version": "3.7.6"
  }
 },
 "nbformat": 4,
 "nbformat_minor": 4
}
